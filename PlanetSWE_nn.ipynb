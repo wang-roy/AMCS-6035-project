{
 "cells": [
  {
   "cell_type": "code",
   "execution_count": 2,
   "id": "03e1b56f",
   "metadata": {},
   "outputs": [],
   "source": [
    "import numpy as np\n",
    "import torch\n",
    "import torch.nn as nn\n",
    "import torch.optim as optim\n",
    "from torch.autograd import grad\n",
    "import os\n",
    "import matplotlib.pyplot as plt"
   ]
  },
  {
   "cell_type": "code",
   "execution_count": null,
   "id": "0def5e7a",
   "metadata": {},
   "outputs": [],
   "source": [
    "# Set default data type and random seeds\n",
    "torch.set_default_dtype(torch.float64)\n",
    "torch.manual_seed(1234)\n",
    "np.random.seed(1234)\n",
    "\n",
    "# Use GPU if available\n",
    "device = torch.device('cuda' if torch.cuda.is_available() else 'cpu')"
   ]
  },
  {
   "cell_type": "code",
   "execution_count": null,
   "id": "26b692b5",
   "metadata": {},
   "outputs": [],
   "source": [
    "# Gravitational constant\n",
    "g = torch.tensor(9.80616, dtype=torch.float64).to_device()\n",
    "\n",
    "# Radius of Earth\n",
    "a = torch.constant(6.37122e6, dtype=torch.float64).to_device()\n",
    "\n",
    "# Angular velocity\n",
    "Omega = torch.constant(7.292e-5, dtype=torch.float64).to_device()"
   ]
  },
  {
   "cell_type": "code",
   "execution_count": null,
   "id": "8ab3c90c",
   "metadata": {},
   "outputs": [],
   "source": [
    "# Boundaries of the computational domain\n",
    "theta_left, theta_right = -np.pi, np.pi\n",
    "phi_lower, phi_upper = -np.pi/2, np.pi/2\n",
    "t_0, t_final = 0, 3024"
   ]
  },
  {
   "cell_type": "code",
   "execution_count": null,
   "id": "d44ea50b",
   "metadata": {},
   "outputs": [],
   "source": [
    "class swe_PINN(nn.Module):\n",
    "    def __init__(self, __):\n",
    "        pass\n",
    "    def forward(self, __):\n",
    "        pass"
   ]
  },
  {
   "cell_type": "code",
   "execution_count": null,
   "id": "e789d0ab",
   "metadata": {},
   "outputs": [],
   "source": [
    "# Training Loop"
   ]
  }
 ],
 "metadata": {
  "kernelspec": {
   "display_name": "workenv",
   "language": "python",
   "name": "python3"
  },
  "language_info": {
   "codemirror_mode": {
    "name": "ipython",
    "version": 3
   },
   "file_extension": ".py",
   "mimetype": "text/x-python",
   "name": "python",
   "nbconvert_exporter": "python",
   "pygments_lexer": "ipython3",
   "version": "3.11.4"
  }
 },
 "nbformat": 4,
 "nbformat_minor": 5
}
